{
 "cells": [
  {
   "cell_type": "markdown",
   "id": "f42583da",
   "metadata": {},
   "source": [
    "# ETS 2 : Graphes (et Matrices)\n",
    "\n",
    "**Objectifs** : \n",
    "+ Bien maitriser le vocabulaire (Graphes,orienté et non rienté, Sommet, aretes, pondéré,ordre, ...)  \n",
    "+ Revoir la culture générale sur le fonctionnement d'un reseau et le GPS \n",
    "+ Revoir la notion de stockage du graphe et la compréhension de la puissance de cette matrice (sans la calculer) ;\n"
   ]
  },
  {
   "cell_type": "markdown",
   "id": "4faa5a8a",
   "metadata": {},
   "source": [
    "## Ressources "
   ]
  },
  {
   "cell_type": "markdown",
   "id": "6c6a35ee",
   "metadata": {},
   "source": [
    "+ (Fonctionnement du GPS) https://www.youtube.com/watch?v=V51dGqHw_24\n",
    "+ https://www.lelivrescolaire.fr/page/14235244\n",
    "+ https://eskool.gitlab.io/tnsi/donnees/graphes/ \n",
    "\n",
    "S'exercer en Python :\n",
    "+ https://www.lelivrescolaire.fr/page/13630219"
   ]
  },
  {
   "cell_type": "markdown",
   "id": "a6f86001",
   "metadata": {},
   "source": [
    "[Application Python ](application.ipynb) : Ce lien vous emmène vers des exercices en Python.(Work in progress)"
   ]
  }
 ],
 "metadata": {
  "kernelspec": {
   "display_name": "Python 3",
   "language": "python",
   "name": "python3"
  },
  "language_info": {
   "codemirror_mode": {
    "name": "ipython",
    "version": 3
   },
   "file_extension": ".py",
   "mimetype": "text/x-python",
   "name": "python",
   "nbconvert_exporter": "python",
   "pygments_lexer": "ipython3",
   "version": "3.8.8"
  }
 },
 "nbformat": 4,
 "nbformat_minor": 5
}
