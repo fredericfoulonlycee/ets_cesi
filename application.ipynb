{
 "cells": [
  {
   "cell_type": "markdown",
   "id": "c36b6ed5",
   "metadata": {},
   "source": [
    "Nous allons utiliser jupyter qui permet d'avoir dans un fichier html des véritables morceaux de Python.\n",
    "\n",
    "<table><tr><td>Tout repose sur cette barre d'icônes</td><td> <IMG SRC=\"run.png\"></td><td> en haut de cette page.</td></tr>\n",
    "<tr><td></td><td>**run cell, interrupt kernel, restart kernel**</td><td></td></tr></table>\n",
    "\n",
    "L'icône **run cell**, qui est la plus à gauche dans la barre, permet de faire fonctionner une cellule (paragraphe)\n",
    "\n",
    "- Elle permet d'exécuter du code source Python (code).\n",
    "- Elle permet d'afficher correctement les paragraphes d'explications (markdown)\n",
    "\n",
    "L'icône **interrupt kernel**, qui est au centre dans la barre, permet d'arrêter du code Python \"planté\".\n",
    "\n",
    "L'icône **restart kernel**, qui est la plus à droite dans la barre, permet de remettre Python à zéro.\n",
    "\n",
    "Essayez l'icône **Run cell** sur le code suivant pour le voir exécuté."
   ]
  },
  {
   "cell_type": "markdown",
   "id": "c2d673ee",
   "metadata": {},
   "source": [
    "# Implémentation des graphes avec une matrice d'adjacence"
   ]
  },
  {
   "cell_type": "markdown",
   "id": "1dfe4ec0",
   "metadata": {},
   "source": [
    " + L'implémentation par une matrice d'adjacence est est très utile d'un point de vue mathématique.(https://fr.wikipedia.org/wiki/Matrice_d%27adjacence)\n",
    " + la classe python suivante permet d'implémenter des graphes en utilisant mleur matrice d'adjacence    "
   ]
  },
  {
   "cell_type": "code",
   "execution_count": 1,
   "id": "269ce232",
   "metadata": {},
   "outputs": [],
   "source": [
    "class Graph:\n",
    "    def __init__(self,n=0):\n",
    "        self.n = n\n",
    "        self.adj = [[0]*n for _ in range (n)] \n",
    "    \n",
    "    def affiche(self):\n",
    "        for i in range(self.n):\n",
    "            print(self.adj[i])\n",
    "            \n",
    "    def add_edge(self):\n",
    "        self.n+=1\n",
    "        for l in self.adj :\n",
    "            l.append(0)\n",
    "        self.adj.append([0]*(self.n))\n",
    "    \n",
    "    def add_vertice(self,s,e,p=1):\n",
    "        self.adj[s][e]=p\n",
    "    \n",
    "    def get_neighbours(self,s):\n",
    "        neighbours = []\n",
    "        for i in range (self.n):\n",
    "            if self.adj[s][i] !=0:\n",
    "                neighbours.append(i)\n",
    "        return neighbours\n",
    "    \n",
    "    def get_vertice(self):\n",
    "        pass\n",
    "    \n",
    "    def get_degree(self,s):\n",
    "        deg =0\n",
    "        for i in range (self.n):\n",
    "            deg+= self.adj[s][i]!=0\n",
    "            deg+= self.adj[i][s]!=0\n",
    "        return deg\n",
    "    \n",
    "    # La méthode ci-dessous revoie la chaîne de carctère correspondnat à la matrice d'adjacence    \n",
    "    def __repr__(self) :\n",
    "        rep =\"\"\n",
    "        for l in self.adj :\n",
    "            for e in l :\n",
    "                rep+=f'{e: >3} '\n",
    "            rep += \"\\n\"\n",
    "        return rep"
   ]
  },
  {
   "cell_type": "markdown",
   "id": "d1f270fc",
   "metadata": {},
   "source": [
    "### Exercice 1 : \n",
    "\n",
    "+ Que fait la méthode  add_edge ?\n",
    "+ Que fait la méthode  add_vertice ?\n",
    "+ Que fait la méthode  affiche  ?"
   ]
  },
  {
   "cell_type": "markdown",
   "id": "c1ae8d30",
   "metadata": {},
   "source": [
    "Cette méthode permet d'implémenter le graphe orienté suivant : "
   ]
  },
  {
   "cell_type": "markdown",
   "id": "6c2e8ebf",
   "metadata": {},
   "source": [
    "<IMG SRC=\"graph_adj_2.png\" width=200>"
   ]
  },
  {
   "cell_type": "code",
   "execution_count": null,
   "id": "afbf7811",
   "metadata": {},
   "outputs": [],
   "source": [
    "g1=Graph(4)\n",
    "g1.add_vertice(0,0)\n",
    "g1.add_vertice(0,1)\n",
    "g1.add_vertice(1,1)\n",
    "g1.add_vertice(1,2)\n",
    "g1.add_vertice(1,3)\n",
    "g1.add_vertice(2,2)\n",
    "g1.add_vertice(3,2)\n",
    "g1.affiche()\n"
   ]
  },
  {
   "cell_type": "markdown",
   "id": "3defe6a3",
   "metadata": {},
   "source": [
    "### Exercice 2 : Faire la même chose avec le graphe non orienté ci-dessous : "
   ]
  },
  {
   "cell_type": "markdown",
   "id": "2744c5d0",
   "metadata": {},
   "source": [
    "<IMG SRC=\"graph_adj_3.png\" width=200>"
   ]
  },
  {
   "cell_type": "code",
   "execution_count": null,
   "id": "0a1a2403",
   "metadata": {},
   "outputs": [],
   "source": []
  },
  {
   "cell_type": "markdown",
   "id": "1d6bd724",
   "metadata": {},
   "source": [
    "### Exercice 3 : Faire la même chose avec le graphe orienté et pondéré ci-dessous :"
   ]
  },
  {
   "cell_type": "markdown",
   "id": "04f116fc",
   "metadata": {},
   "source": [
    "<IMG SRC=\"graph_adj_4.png\" width=200>"
   ]
  },
  {
   "cell_type": "code",
   "execution_count": 2,
   "id": "9c172834",
   "metadata": {},
   "outputs": [
    {
     "name": "stdout",
     "output_type": "stream",
     "text": [
      "[3, 2, 0, 0]\n",
      "[0, 4, 0.5, 0.2]\n",
      "[0, 0, 0.6, 0]\n",
      "[0, 0, 5, 0]\n"
     ]
    }
   ],
   "source": [
    "g4=Graph(4)\n",
    "g4.add_vertice(0,0,3)\n",
    "g4.add_vertice(0,1,2)\n",
    "g4.add_vertice(1,1,4)\n",
    "g4.add_vertice(1,2,0.5)\n",
    "g4.add_vertice(1,3,0.2)\n",
    "g4.add_vertice(2,2,0.6)\n",
    "g4.add_vertice(3,2,5)\n",
    "g4.affiche()\n"
   ]
  },
  {
   "cell_type": "markdown",
   "id": "4db74045",
   "metadata": {},
   "source": [
    "### Exercice 4 : Faire la même chose avec le graphe orienté et pondéré ci-dessous :"
   ]
  },
  {
   "cell_type": "markdown",
   "id": "98aa55fb",
   "metadata": {},
   "source": [
    "<IMG SRC=\"graph_adj_5.png\" width=200>"
   ]
  },
  {
   "cell_type": "markdown",
   "id": "78e01889",
   "metadata": {},
   "source": [
    "### Exercice 5 : completer la méthode get_neighbours pourqu'elle retourne les voisins d'un sommet et tester cette méthode"
   ]
  },
  {
   "cell_type": "code",
   "execution_count": null,
   "id": "a811cdc5",
   "metadata": {},
   "outputs": [],
   "source": [
    "g4.get_neighbours(3)"
   ]
  },
  {
   "cell_type": "markdown",
   "id": "95b158df",
   "metadata": {},
   "source": [
    "### Exercice 6 : completer la méthode get_vertices pourqu'elle retourne la liste des sommets "
   ]
  },
  {
   "cell_type": "markdown",
   "id": "44959f93",
   "metadata": {},
   "source": [
    "### Exercice 7 : Que fait la méthode get_degree ? "
   ]
  },
  {
   "cell_type": "code",
   "execution_count": 4,
   "id": "00af6f69",
   "metadata": {},
   "outputs": [
    {
     "data": {
      "text/plain": [
       "5"
      ]
     },
     "execution_count": 4,
     "metadata": {},
     "output_type": "execute_result"
    }
   ],
   "source": [
    "g4.get_degree(1)"
   ]
  },
  {
   "cell_type": "code",
   "execution_count": null,
   "id": "204fd27f",
   "metadata": {},
   "outputs": [],
   "source": []
  }
 ],
 "metadata": {
  "kernelspec": {
   "display_name": "Python 3",
   "language": "python",
   "name": "python3"
  },
  "language_info": {
   "codemirror_mode": {
    "name": "ipython",
    "version": 3
   },
   "file_extension": ".py",
   "mimetype": "text/x-python",
   "name": "python",
   "nbconvert_exporter": "python",
   "pygments_lexer": "ipython3",
   "version": "3.8.8"
  }
 },
 "nbformat": 4,
 "nbformat_minor": 5
}
