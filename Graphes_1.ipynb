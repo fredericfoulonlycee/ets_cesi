{
 "cells": [
  {
   "cell_type": "markdown",
   "id": "c072b6c1",
   "metadata": {},
   "source": [
    "# Graphes "
   ]
  },
  {
   "cell_type": "markdown",
   "id": "bf0a11dc",
   "metadata": {},
   "source": [
    "+ Nous allons découvrir quelques notions de base concernant la théorie des graphes.\n",
    "+ La structure de graphe est omniprésente en informatique et modélise de nombreuses situations.\n",
    "+ Un ensemble de pages HTML, un réseau social, un labyrinthe, les routeurs Internet, un réseau ferré, une carte routière...se modélisent à l'aide d'un graphe."
   ]
  },
  {
   "cell_type": "markdown",
   "id": "c58f32d5",
   "metadata": {},
   "source": [
    "<img SRC=\"metro.png\" width=400>"
   ]
  },
  {
   "cell_type": "markdown",
   "id": "b5e41b3b",
   "metadata": {},
   "source": [
    "[intro sur les graphes en 5 minutes](https://www.youtube.com/watch?v=yn_Pm_Qz4VE)\n",
    "[Graphe : introduction en 16 minutes](https://www.youtube.com/watch?v=YYv2R1cCTa0&list=PL-z-gA5Rjv93kBASrJ16iwotUlCqcxlLL)"
   ]
  },
  {
   "cell_type": "markdown",
   "id": "fcae0eed",
   "metadata": {},
   "source": [
    "## Définitions \n"
   ]
  },
  {
   "cell_type": "markdown",
   "id": "a96ebedc",
   "metadata": {},
   "source": [
    "## Sommets, arcs, orientation\n",
    "Un graphe est un ensemble de sommets reliés entre eux par des arcs.Par exemple, les sommets sont les pages html, les arcs sont les liens des pages html entre elles.\n",
    "\n",
    "#### Graphe orienté\n",
    "<img src='exemple1.png' style='float:right;' width=200>\n",
    "\n",
    "Voici un exemple plus petit de graphe possédant quatre sommets et six arcs. On parle de graphe orienté lorsque l'on distingue le sens des arcs. Les flèches indiquent le sens.\n",
    "\n",
    "* Dans ce graphe, il y a un arc de $a$ vers $b$ mais pas de $b$ vers $a$.\n",
    "* Il y a un arc de $b$ vers $d$ et de $d$ vers $b$."
   ]
  },
  {
   "cell_type": "markdown",
   "id": "980170ba",
   "metadata": {},
   "source": [
    "#### Graphe non orienté\n",
    "<img src='exemple2.png' style='float:right;' width=200>\n",
    "\n",
    "Dans un graphe non orienté , on s'intéresse uniquement à la présence d'un arc entre deux sommets. On dessine alors ces arcs avec de simples traits.\n",
    "* Dans le graphe ci-contre, il n'y a que 5 arcs."
   ]
  },
  {
   "cell_type": "markdown",
   "id": "e6a2cffd",
   "metadata": {},
   "source": [
    "### Voisinage\n",
    "Lorsqu'il y a un arc d'un sommet $a$ vers un sommet $b$, on dit que $b$ est adjacent à $a$ ou encore que $b$ est un voisin de $a$.\n",
    "* Dans les exemples ci-dessus, les voisins de $b$ sont:\n",
    "  * $c$ et $d$ dans le cas orienté.\n",
    "  * $a$, $b$ et $d$ dans le cas non orienté."
   ]
  },
  {
   "cell_type": "markdown",
   "id": "f54e00eb",
   "metadata": {},
   "source": [
    "#### Dessins\n",
    "\n",
    "Un graphe est défini par l'ensemble de ses sommets et de ces arcs et non pas par la façon dont il est dessiné. Dans les exemples ci-dessous, il s'agit bien du même graphe:\n",
    "\n",
    "<img src='exemple3.png' style='float:center;' width=500>"
   ]
  },
  {
   "cell_type": "markdown",
   "id": "499fab4a",
   "metadata": {},
   "source": [
    "##### Exercice  :\n",
    "<img src='ex2.png' style='float:right;' width=300>\n",
    "Dans le graphe ci-onctre:\n",
    "\n",
    "1. Quels sont les voisins de :\n",
    "\n",
    "\n",
    "   * $0$ :  \n",
    "   \n",
    "   \n",
    "   * $7$ :  \n",
    "   \n",
    "   \n",
    "   * $1$ :  \n",
    "   \n",
    "   \n",
    "   \n",
    "   \n",
    "2. De quel sommet l'ensemble $ \\{ 0,1,5,6,7 \\}$ est-il le voisinage ? "
   ]
  },
  {
   "cell_type": "markdown",
   "id": "54d6f359",
   "metadata": {},
   "source": [
    "#### Chemin\n",
    "\n",
    "\n",
    "* Un chemin est une séquence finie de sommets reliés deux à deux par des arcs.\n",
    "\n",
    "\n",
    "* Ainsi dans le graphe orienté ci-contre :\n",
    "<img src='exemple1.png' style='float:right;' width=200>\n",
    "\n",
    "   * Un chemin reliant $a$ à $c$ est $a-b-c$ (dans cet ordre). \n",
    "   * Mais il y a aussi $a-d-b-c$ ou encore $a-b-c-d-b-c$.\n",
    "   * il n'y a pas de chemin de $c$ à $a$ ( le graphe est orienté)"
   ]
  },
  {
   "cell_type": "markdown",
   "id": "45bc596d",
   "metadata": {},
   "source": [
    "#### Cycle\n",
    "Un chemin est dit simple s'il n'emprunte pas deux fois le même arc et élémentaire s'il ne passe pas deux fois par le même sommet.\n",
    "* Dans le graphe orienté précédent:\n",
    "    * $a-b-c$ est un chemin simple et élémentaire.\n",
    "    * $a-b-d-b-c$ est un chemin simple, mais pas élémentaire.\n",
    "\n",
    "Un chemin simple reliant un sommet à lui même et contenant au moins un arc est appelé un cycle.\n",
    "* Dans le graphe non orienté précédent :\n",
    "   * $b-c-d-b$ est un cycle\n",
    "   * $a-b-a$ n'est pas un cycle (ce n'est pas un chemin simple)"
   ]
  },
  {
   "cell_type": "markdown",
   "id": "c41967a8",
   "metadata": {},
   "source": [
    "#### Distance\n",
    "* La longueur d'un chemin est définie comme le nombre d'arcs qui constituent le chemin.\n",
    "* La distance entre deux sommets est la longueur du plus court chemin reliant ces deux sommets.\n",
    "* La distance d'un sommet à lui-même n'empruntant aucun arc est $0$.\n",
    "* La distance entre deux sommets non reliés n'est pas définie.\n",
    "* Dans le graphe non orienté précédent :\n",
    "  * La longueur du chemin $a-b-d-c$ est $3$, mais la distance entre $a$ et $c$ est $2$ (longueur du chemin $a-b-c$)."
   ]
  },
  {
   "cell_type": "markdown",
   "id": "f64f422f",
   "metadata": {},
   "source": [
    "## La connexité \n"
   ]
  },
  {
   "cell_type": "markdown",
   "id": "206628ec",
   "metadata": {},
   "source": [
    "[Vidéo connexite](https://www.youtube.com/watch?v=ohObUJ9Q6wQ)"
   ]
  },
  {
   "cell_type": "markdown",
   "id": "dd5f3704",
   "metadata": {},
   "source": [
    "#### Connexité\n",
    "* On dit qu'un graphe non orienté est connexe si pour tous sommets $x$ et $y$, il existe un chemin qui relie $x$ et $y$ \n",
    "* Dans le cas d'un graphe orienté :\n",
    "     * On dit qu'il est connexe si pour tous sommets $x$ et $y$, il existe un chemin de $x$ vers $y$ ou de $y$ vers $x$.\n",
    "     * On dit qu'il est fortement connexe s'il existe un chemin de de $x$ vers $y$ et de $y$ vers $x$.\n",
    " \n",
    "<img src='exemple1.png' style='float:right;' width=200>\n",
    "\n",
    "* Ainsi le graphe orienté ci-contre :\n",
    "   * est connexe.\n",
    "   * n'est pas fortement connexe."
   ]
  },
  {
   "cell_type": "markdown",
   "id": "4cb994f5",
   "metadata": {},
   "source": [
    "##### Exercice :\n",
    "<img src='ex3.png' style='float:right;' width=250>\n",
    "On considère le graphe orienté ci-contre:\n",
    "\n",
    "\n",
    "1. Ce graphe est-il connexe ? \n",
    "\n",
    "\n",
    "2. Est-il fortement connexe ?  \n",
    "\n",
    "\n",
    "3. Citer un chemin simple et non élémentaire de $4$ à $2$.  \n",
    "\n",
    "\n",
    "4. Quelle est la longueur du plus court chemin de $3$ à $2$ ? \n",
    "\n",
    "\n",
    "5. Citer un chemin élémentaire de $3$ à $1$.   \n",
    "\n",
    "\n",
    "6. Quelle est la distance des sommets $1$ et $2$ ?  \n",
    "\n",
    "\n",
    "7. Citer un cycle de ce graphe.  "
   ]
  },
  {
   "cell_type": "markdown",
   "id": "33c885b0",
   "metadata": {},
   "source": [
    "## Réseaux \n"
   ]
  },
  {
   "cell_type": "markdown",
   "id": "ee78b562",
   "metadata": {},
   "source": [
    "### Réseaux\n",
    "#### Routiers\n",
    "\n",
    "* *Exemple 1 :* On considère les principales villes de France et on s'intérèsse aux autoroutes qui desservent ces villes.\n",
    "<img src='gr1.png' style='float:center;' width=300>\n",
    "\n",
    "* *Exemple 2 :* Dans une ville, on considère le sens de circulation en voiture dans des rues.\n",
    "<img src='gr2.png' style='float:center;' width=300>\n",
    "\n",
    "#### Informatiques\n",
    "* *Exemple 3 :* On considère l'architecture client/serveur qui permet d'utiliser un navigateur web.\n",
    "<img src='gr3.png' style='float:center;' width=300>\n",
    "\n",
    "#### Sociaux\n",
    "* *Exemple 4 :* Dans un réseau social, on considère les profils et la relation \"abonné\".\n",
    "<img src='gr4.png' style='float:center;' width=500>"
   ]
  },
  {
   "cell_type": "markdown",
   "id": "3283115e",
   "metadata": {},
   "source": [
    "### Cartes\n",
    "\n",
    "* *Exemple 5 :* On considère les régions françaises métropolitaines et la relation \"est limitrophe de\".\n",
    "<img src='gr5.png' style='float:center;' width=300>"
   ]
  },
  {
   "cell_type": "markdown",
   "id": "1b405844",
   "metadata": {},
   "source": [
    "### Arbres\n",
    "La structure d'arbre vue précédemment est un graphe.\n",
    "* Exemple 7 :  L'arbre d'un système de fichiers Linux.\n",
    "<img src='gr7.png' style='float:center;' width=300>"
   ]
  },
  {
   "cell_type": "code",
   "execution_count": null,
   "id": "82eb5990",
   "metadata": {},
   "outputs": [],
   "source": []
  }
 ],
 "metadata": {
  "kernelspec": {
   "display_name": "Python 3",
   "language": "python",
   "name": "python3"
  },
  "language_info": {
   "codemirror_mode": {
    "name": "ipython",
    "version": 3
   },
   "file_extension": ".py",
   "mimetype": "text/x-python",
   "name": "python",
   "nbconvert_exporter": "python",
   "pygments_lexer": "ipython3",
   "version": "3.8.8"
  }
 },
 "nbformat": 4,
 "nbformat_minor": 5
}
