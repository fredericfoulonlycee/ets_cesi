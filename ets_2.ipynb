{
 "cells": [
  {
   "cell_type": "markdown",
   "id": "f42583da",
   "metadata": {},
   "source": [
    "# ETS 2 : Graphes (et Matrices)\n",
    "\n",
    "**Objectifs** : \n",
    "+ Bien maitriser le vocabulaire (Graphes,orienté et non rienté, Sommet, aretes, pondéré,ordre, ...)  \n",
    "+ Revoir la culture générale sur le fonctionnement d'un reseau et le GPS \n",
    "+ Revoir la notion de stockage du graphe et la compréhension de la puissance de cette matrice (sans la calculer) ;\n"
   ]
  },
  {
   "cell_type": "markdown",
   "id": "4faa5a8a",
   "metadata": {},
   "source": [
    "## Ressources "
   ]
  },
  {
   "cell_type": "markdown",
   "id": "6c6a35ee",
   "metadata": {},
   "source": [
    "+ (Fonctionnement du GPS) https://www.youtube.com/watch?v=V51dGqHw_24\n",
    "+ https://www.lelivrescolaire.fr/page/14235244\n",
    "+ https://eskool.gitlab.io/tnsi/donnees/graphes/ "
   ]
  },
  {
   "cell_type": "markdown",
   "id": "78800465",
   "metadata": {},
   "source": [
    "S'exercer en Python :\n",
    "+ https://www.lelivrescolaire.fr/page/13630219\n",
    "+ \n",
    "    "
   ]
  },
  {
   "cell_type": "markdown",
   "id": "63679a71",
   "metadata": {},
   "source": [
    "Nous allons utiliser jupyter qui permet d'avoir dans un fichier html des véritables morceaux de Python.\n",
    "\n",
    "<table><tr><td>Tout repose sur cette barre d'icônes</td><td> <IMG SRC=\"run.png\"></td><td> en haut de cette page.</td></tr>\n",
    "<tr><td></td><td>**run cell, interrupt kernel, restart kernel**</td><td></td></tr></table>\n",
    "\n",
    "L'icône **run cell**, qui est la plus à gauche dans la barre, permet de faire fonctionner une cellule (paragraphe)\n",
    "\n",
    "- Elle permet d'exécuter du code source Python (code).\n",
    "- Elle permet d'afficher correctement les paragraphes d'explications (markdown)\n",
    "\n",
    "L'icône **interrupt kernel**, qui est au centre dans la barre, permet d'arrêter du code Python \"planté\".\n",
    "\n",
    "L'icône **restart kernel**, qui est la plus à droite dans la barre, permet de remettre Python à zéro.\n",
    "\n",
    "Essayez l'icône **Run cell** sur le code suivant pour le voir exécuté."
   ]
  },
  {
   "cell_type": "markdown",
   "id": "6dce5bb5",
   "metadata": {},
   "source": [
    "[Application Python ](application.ipynb) : Ce lien vous emmène vers des exercices en Python.(Work in progress)"
   ]
  },
  {
   "cell_type": "code",
   "execution_count": null,
   "id": "409dc4ec",
   "metadata": {},
   "outputs": [],
   "source": []
  }
 ],
 "metadata": {
  "kernelspec": {
   "display_name": "Python 3",
   "language": "python",
   "name": "python3"
  },
  "language_info": {
   "codemirror_mode": {
    "name": "ipython",
    "version": 3
   },
   "file_extension": ".py",
   "mimetype": "text/x-python",
   "name": "python",
   "nbconvert_exporter": "python",
   "pygments_lexer": "ipython3",
   "version": "3.8.8"
  }
 },
 "nbformat": 4,
 "nbformat_minor": 5
}
